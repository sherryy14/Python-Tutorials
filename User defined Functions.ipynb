{
 "cells": [
  {
   "cell_type": "markdown",
   "metadata": {},
   "source": [
    "# Built in Functions\n",
    "The functions which is already defined in python and comes along with python interpreter is clled built in functions.Every Function has a specific job. Some examples are given as :\n",
    "\n",
    "print()          input()          sorted()           range()              len()          etc...\n",
    "\n",
    "# User Defined Functions\n",
    "Similarly , user can defined its own function which has a specific job to perform ...\n",
    "If you need to\n",
    "perform a task multiple times throughout your program, you don’t\n",
    "need to type all the code for the same task again and again; you just call\n",
    "the function dedicated to handling that task, and the call tells Python to\n",
    "run the code inside the function. You’ll find that using functions makes\n",
    "your programs easier to write, read, test, and fix"
   ]
  },
  {
   "cell_type": "code",
   "execution_count": 9,
   "metadata": {},
   "outputs": [],
   "source": [
    "def greet():\n",
    "    print('Hello user')"
   ]
  },
  {
   "cell_type": "code",
   "execution_count": 10,
   "metadata": {},
   "outputs": [
    {
     "name": "stdout",
     "output_type": "stream",
     "text": [
      "Hello user\n"
     ]
    }
   ],
   "source": [
    "greet()"
   ]
  },
  {
   "cell_type": "code",
   "execution_count": 12,
   "metadata": {},
   "outputs": [],
   "source": [
    "def greet(name):\n",
    "    print('Hello',name)"
   ]
  },
  {
   "cell_type": "code",
   "execution_count": 14,
   "metadata": {},
   "outputs": [
    {
     "name": "stdout",
     "output_type": "stream",
     "text": [
      "Hello ali\n"
     ]
    }
   ],
   "source": [
    "greet('ali')"
   ]
  },
  {
   "cell_type": "code",
   "execution_count": 15,
   "metadata": {},
   "outputs": [
    {
     "name": "stdout",
     "output_type": "stream",
     "text": [
      "Hello umer\n"
     ]
    }
   ],
   "source": [
    "greet('umer')"
   ]
  },
  {
   "cell_type": "code",
   "execution_count": 16,
   "metadata": {},
   "outputs": [
    {
     "name": "stdout",
     "output_type": "stream",
     "text": [
      "Hello Pakistan\n"
     ]
    }
   ],
   "source": [
    "greet('Pakistan')"
   ]
  },
  {
   "cell_type": "markdown",
   "metadata": {},
   "source": [
    "# Positional  Arguments"
   ]
  },
  {
   "cell_type": "code",
   "execution_count": 1,
   "metadata": {},
   "outputs": [],
   "source": [
    "def greet_user(f_name,l_name):\n",
    "    full_name=f_name+' '+l_name\n",
    "    print('Hello',full_name)"
   ]
  },
  {
   "cell_type": "code",
   "execution_count": 2,
   "metadata": {},
   "outputs": [
    {
     "name": "stdout",
     "output_type": "stream",
     "text": [
      "Hello Albert Einstein\n"
     ]
    }
   ],
   "source": [
    "greet_user('Albert','Einstein')"
   ]
  },
  {
   "cell_type": "code",
   "execution_count": 3,
   "metadata": {},
   "outputs": [
    {
     "name": "stdout",
     "output_type": "stream",
     "text": [
      "Hello Einstein Albert\n"
     ]
    }
   ],
   "source": [
    "greet_user('Einstein','Albert')"
   ]
  },
  {
   "cell_type": "code",
   "execution_count": 4,
   "metadata": {},
   "outputs": [
    {
     "name": "stdout",
     "output_type": "stream",
     "text": [
      "Hello Issac newton\n"
     ]
    }
   ],
   "source": [
    "greet_user('Issac','newton')"
   ]
  },
  {
   "cell_type": "markdown",
   "metadata": {},
   "source": [
    "# Keyword Argument"
   ]
  },
  {
   "cell_type": "code",
   "execution_count": 5,
   "metadata": {},
   "outputs": [
    {
     "name": "stdout",
     "output_type": "stream",
     "text": [
      "Hello Albert Eintein\n"
     ]
    }
   ],
   "source": [
    "greet_user(f_name='Albert',l_name='Eintein')"
   ]
  },
  {
   "cell_type": "code",
   "execution_count": 6,
   "metadata": {},
   "outputs": [
    {
     "name": "stdout",
     "output_type": "stream",
     "text": [
      "Hello Albert Einstein\n"
     ]
    }
   ],
   "source": [
    "greet_user(l_name='Einstein',f_name='Albert')"
   ]
  },
  {
   "cell_type": "code",
   "execution_count": 7,
   "metadata": {},
   "outputs": [
    {
     "ename": "TypeError",
     "evalue": "greet_user() missing 1 required positional argument: 'f_name'",
     "output_type": "error",
     "traceback": [
      "\u001b[1;31m---------------------------------------------------------------------------\u001b[0m",
      "\u001b[1;31mTypeError\u001b[0m                                 Traceback (most recent call last)",
      "\u001b[1;32m<ipython-input-7-c1d08ce729d7>\u001b[0m in \u001b[0;36m<module>\u001b[1;34m\u001b[0m\n\u001b[1;32m----> 1\u001b[1;33m \u001b[0mgreet_user\u001b[0m\u001b[1;33m(\u001b[0m\u001b[0ml_name\u001b[0m\u001b[1;33m=\u001b[0m\u001b[1;34m'Einstein'\u001b[0m\u001b[1;33m)\u001b[0m\u001b[1;33m\u001b[0m\u001b[1;33m\u001b[0m\u001b[0m\n\u001b[0m",
      "\u001b[1;31mTypeError\u001b[0m: greet_user() missing 1 required positional argument: 'f_name'"
     ]
    }
   ],
   "source": [
    "greet_user(l_name='Einstein')"
   ]
  },
  {
   "cell_type": "code",
   "execution_count": 9,
   "metadata": {},
   "outputs": [],
   "source": [
    "def user_name(f_name,l_name,m_name=''):\n",
    "    full_name=f_name+m_name+l_name\n",
    "    print(full_name)"
   ]
  },
  {
   "cell_type": "code",
   "execution_count": 11,
   "metadata": {},
   "outputs": [
    {
     "name": "stdout",
     "output_type": "stream",
     "text": [
      "MuhammadUmerSiddiqui\n"
     ]
    }
   ],
   "source": [
    "user_name(f_name='Muhammad',m_name='Umer',l_name='Siddiqui')"
   ]
  },
  {
   "cell_type": "markdown",
   "metadata": {},
   "source": [
    "# Return values\n",
    "A function doesn’t always have to display its output directly. Instead, it can\n",
    "process some data and then return a value or set of values. The value the\n",
    "function returns is called a return value. The return statement takes a value\n",
    "from inside a function and sends it back to the line that called the function. "
   ]
  },
  {
   "cell_type": "code",
   "execution_count": 1,
   "metadata": {},
   "outputs": [],
   "source": [
    "def user_name(f_name,l_name,m_name=''):\n",
    "    full_name=f_name+m_name+l_name\n",
    "    return full_name"
   ]
  },
  {
   "cell_type": "code",
   "execution_count": 2,
   "metadata": {},
   "outputs": [],
   "source": [
    "name=user_name(f_name='Muhammad',m_name='Umer',l_name='Siddiqui')"
   ]
  },
  {
   "cell_type": "code",
   "execution_count": 3,
   "metadata": {},
   "outputs": [
    {
     "name": "stdout",
     "output_type": "stream",
     "text": [
      "MuhammadUmerSiddiqui\n"
     ]
    }
   ],
   "source": [
    "print(name)"
   ]
  },
  {
   "cell_type": "code",
   "execution_count": 4,
   "metadata": {},
   "outputs": [],
   "source": [
    "def area_of_circle(radius):\n",
    "    pi=3.142\n",
    "    area=pi*(radius)**2\n",
    "    return area"
   ]
  },
  {
   "cell_type": "code",
   "execution_count": 5,
   "metadata": {},
   "outputs": [],
   "source": [
    "area_of_circ=area_of_circle(34)"
   ]
  },
  {
   "cell_type": "code",
   "execution_count": 6,
   "metadata": {},
   "outputs": [
    {
     "data": {
      "text/plain": [
       "3632.152"
      ]
     },
     "execution_count": 6,
     "metadata": {},
     "output_type": "execute_result"
    }
   ],
   "source": [
    "area_of_circ"
   ]
  },
  {
   "cell_type": "code",
   "execution_count": 8,
   "metadata": {},
   "outputs": [],
   "source": [
    "# Returning a dictionary\n",
    "def build_person(f_name,l_name):\n",
    "    person={'first name':f_name,'last name':l_name}\n",
    "    return person"
   ]
  },
  {
   "cell_type": "code",
   "execution_count": 9,
   "metadata": {},
   "outputs": [],
   "source": [
    "person_name=build_person('Albert','Einstein')"
   ]
  },
  {
   "cell_type": "code",
   "execution_count": 10,
   "metadata": {},
   "outputs": [
    {
     "data": {
      "text/plain": [
       "{'first name': 'Albert', 'last name': 'Einstein'}"
      ]
     },
     "execution_count": 10,
     "metadata": {},
     "output_type": "execute_result"
    }
   ],
   "source": [
    "person_name"
   ]
  },
  {
   "cell_type": "code",
   "execution_count": 11,
   "metadata": {},
   "outputs": [
    {
     "name": "stdout",
     "output_type": "stream",
     "text": [
      "Enter first nameAlbert\n",
      "Enter last nameEinstein\n",
      "\n",
      "Hello Albert Einstein\n",
      "Do you want to Enter more names? (y/n)y\n",
      "Enter first nameIssac\n",
      "Enter last nameNewton\n",
      "\n",
      "Hello Issac Newton\n",
      "Do you want to Enter more names? (y/n)n\n"
     ]
    }
   ],
   "source": [
    "flag=True\n",
    "while flag:\n",
    "    f_name=input('Enter first name')\n",
    "    l_name=input('Enter last name')\n",
    "    \n",
    "    person_name=build_person(f_name,l_name)\n",
    "    print('\\nHello',f_name,l_name)\n",
    "    \n",
    "    cont=input('Do you want to Enter more names? (y/n)')\n",
    "    if cont.lower()=='n':\n",
    "        flag=False"
   ]
  },
  {
   "cell_type": "markdown",
   "metadata": {},
   "source": [
    "# Default values\n",
    "When writing a function, you can define a default value for each parameter.\n",
    "If an argument for a parameter is provided in the function call, Python uses\n",
    "the argument value. If not, it uses the parameter’s default value. So when\n",
    "you define a default value for a parameter, you can exclude the corresponding argument you’d usually write in the function call.\n"
   ]
  },
  {
   "cell_type": "code",
   "execution_count": 49,
   "metadata": {},
   "outputs": [],
   "source": [
    "def describe_pet(pet_name,animal_type='cat'):\n",
    "    print('I have a',animal_type)\n",
    "    print('The name of my pet is',pet_name)"
   ]
  },
  {
   "cell_type": "code",
   "execution_count": 50,
   "metadata": {},
   "outputs": [
    {
     "name": "stdout",
     "output_type": "stream",
     "text": [
      "I have a cat\n",
      "The name of my pet is Erik\n"
     ]
    }
   ],
   "source": [
    "describe_pet('Erik')"
   ]
  },
  {
   "cell_type": "markdown",
   "metadata": {},
   "source": [
    "# Optional Arguments\n",
    "Sometimes it makes sense to make an argument optional so that people\n",
    "using the function can choose to provide extra information only if they\n",
    "want to. You can use default values to make an argument optional."
   ]
  },
  {
   "cell_type": "code",
   "execution_count": 52,
   "metadata": {},
   "outputs": [],
   "source": [
    "def user_name(f_name,l_name,m_name=''):\n",
    "    full_name=f_name+m_name+l_name\n",
    "    return full_name"
   ]
  },
  {
   "cell_type": "code",
   "execution_count": 53,
   "metadata": {},
   "outputs": [],
   "source": [
    "person_name=user_name('Muhammad','Umer')"
   ]
  },
  {
   "cell_type": "code",
   "execution_count": 54,
   "metadata": {},
   "outputs": [
    {
     "data": {
      "text/plain": [
       "'MuhammadUmer'"
      ]
     },
     "execution_count": 54,
     "metadata": {},
     "output_type": "execute_result"
    }
   ],
   "source": [
    "person_name"
   ]
  },
  {
   "cell_type": "markdown",
   "metadata": {},
   "source": [
    "# Arbitrary # of Arguments\n",
    "Sometimes you won’t know ahead of time how many arguments a function\n",
    "needs to accept. Fortunately, Python allows a function to collect an arbitrary number of arguments from the calling statement. "
   ]
  },
  {
   "cell_type": "code",
   "execution_count": 28,
   "metadata": {},
   "outputs": [],
   "source": [
    "def make_pizza(*toppings):\n",
    "    print(toppings)"
   ]
  },
  {
   "cell_type": "code",
   "execution_count": 30,
   "metadata": {},
   "outputs": [
    {
     "name": "stdout",
     "output_type": "stream",
     "text": [
      "('pepproni', 'mushrooms', 'green pepper')\n"
     ]
    }
   ],
   "source": [
    "make_pizza('pepproni','mushrooms','green pepper')"
   ]
  },
  {
   "cell_type": "code",
   "execution_count": 32,
   "metadata": {},
   "outputs": [],
   "source": [
    "#Positional and Arbitrary arguments\n",
    "def make_pizza(size,*toppings):\n",
    "    print('The size of my pizza should be',size)\n",
    "    print('Toppings:',toppings)"
   ]
  },
  {
   "cell_type": "code",
   "execution_count": 33,
   "metadata": {},
   "outputs": [
    {
     "name": "stdout",
     "output_type": "stream",
     "text": [
      "The size of my pizza should be 12\n",
      "Toppings: ('mushrooms', 'extra cheese', 'pepperoni', 'mayo')\n"
     ]
    }
   ],
   "source": [
    "make_pizza(12,'mushrooms','extra cheese','pepperoni','mayo')"
   ]
  },
  {
   "cell_type": "code",
   "execution_count": 36,
   "metadata": {},
   "outputs": [],
   "source": [
    "#Keyword and Arbitrary arguments\n",
    "def build_profile(first,last,**user_info):\n",
    "    name=first+' '+last\n",
    "    print('Name of the user should be:',name)\n",
    "    print('Other informations',user_info)"
   ]
  },
  {
   "cell_type": "code",
   "execution_count": 37,
   "metadata": {},
   "outputs": [
    {
     "name": "stdout",
     "output_type": "stream",
     "text": [
      "Name of the user should be: Albert Einstein\n",
      "Other informations {'location': 'Germenay', 'field': 'Physics'}\n"
     ]
    }
   ],
   "source": [
    "build_profile(first='Albert',last='Einstein',location='Germenay',field='Physics')"
   ]
  },
  {
   "cell_type": "code",
   "execution_count": 45,
   "metadata": {},
   "outputs": [],
   "source": [
    "def build_profile(first,last,**user_info):\n",
    "    name=first+' '+last\n",
    "    print('Name of the user should be:',name)\n",
    "    for k,v in user_info.items():\n",
    "        print(k,':',v)"
   ]
  },
  {
   "cell_type": "code",
   "execution_count": 47,
   "metadata": {},
   "outputs": [
    {
     "name": "stdout",
     "output_type": "stream",
     "text": [
      "Name of the user should be: Albert Einstein\n",
      "location : Germenay\n",
      "field : Physics\n"
     ]
    }
   ],
   "source": [
    "build_profile(first='Albert',last='Einstein',location='Germenay',field='Physics')"
   ]
  },
  {
   "cell_type": "markdown",
   "metadata": {},
   "source": [
    "# Local VS Global Variables\n",
    "\n"
   ]
  },
  {
   "cell_type": "markdown",
   "metadata": {},
   "source": [
    "Now we come to the subject of variable scope. That is, the difference between\n",
    "global and local variables. Some variables have global scope, which makes them\n",
    "global variables. Other variables have local scope, which makes them local\n",
    "variables.\n",
    "A global variable is one you define in the main body of your code—that is,\n",
    "not in a function."
   ]
  },
  {
   "cell_type": "code",
   "execution_count": 1,
   "metadata": {},
   "outputs": [],
   "source": [
    "what_to_say = \"Hi\"  # global "
   ]
  },
  {
   "cell_type": "markdown",
   "metadata": {},
   "source": [
    "A local variable is one that you define in a function.\n"
   ]
  },
  {
   "cell_type": "code",
   "execution_count": 2,
   "metadata": {},
   "outputs": [],
   "source": [
    "def say_something():\n",
    "    what_to_say = \"Hi\"  #local "
   ]
  },
  {
   "cell_type": "markdown",
   "metadata": {},
   "source": [
    "What makes a global variable global is that it is recognized everywhere in\n",
    "your code. Global scope is like global fame.\n",
    "\n",
    "A local variable is one that's recognized only within the function that\n",
    "introduces it. Local scope is like local fame."
   ]
  },
  {
   "cell_type": "markdown",
   "metadata": {},
   "source": [
    "In the following code, b, c, and total are local.\n"
   ]
  },
  {
   "cell_type": "code",
   "execution_count": 3,
   "metadata": {},
   "outputs": [],
   "source": [
    "def whatever(b, c):\n",
    "    total = b + c\n",
    "    return total"
   ]
  },
  {
   "cell_type": "code",
   "execution_count": 4,
   "metadata": {
    "scrolled": true
   },
   "outputs": [
    {
     "ename": "NameError",
     "evalue": "name 'b' is not defined",
     "output_type": "error",
     "traceback": [
      "\u001b[1;31m---------------------------------------------------------------------------\u001b[0m",
      "\u001b[1;31mNameError\u001b[0m                                 Traceback (most recent call last)",
      "\u001b[1;32m<ipython-input-4-67e500defa1b>\u001b[0m in \u001b[0;36m<module>\u001b[1;34m\u001b[0m\n\u001b[1;32m----> 1\u001b[1;33m \u001b[0mprint\u001b[0m\u001b[1;33m(\u001b[0m\u001b[0mb\u001b[0m\u001b[1;33m)\u001b[0m\u001b[1;33m\u001b[0m\u001b[1;33m\u001b[0m\u001b[0m\n\u001b[0m",
      "\u001b[1;31mNameError\u001b[0m: name 'b' is not defined"
     ]
    }
   ],
   "source": [
    "print(b)"
   ]
  },
  {
   "cell_type": "code",
   "execution_count": 5,
   "metadata": {},
   "outputs": [
    {
     "ename": "NameError",
     "evalue": "name 'c' is not defined",
     "output_type": "error",
     "traceback": [
      "\u001b[1;31m---------------------------------------------------------------------------\u001b[0m",
      "\u001b[1;31mNameError\u001b[0m                                 Traceback (most recent call last)",
      "\u001b[1;32m<ipython-input-5-1dd5973cae19>\u001b[0m in \u001b[0;36m<module>\u001b[1;34m\u001b[0m\n\u001b[1;32m----> 1\u001b[1;33m \u001b[0mprint\u001b[0m\u001b[1;33m(\u001b[0m\u001b[0mc\u001b[0m\u001b[1;33m)\u001b[0m\u001b[1;33m\u001b[0m\u001b[1;33m\u001b[0m\u001b[0m\n\u001b[0m",
      "\u001b[1;31mNameError\u001b[0m: name 'c' is not defined"
     ]
    }
   ],
   "source": [
    "print(c)"
   ]
  },
  {
   "cell_type": "code",
   "execution_count": 6,
   "metadata": {},
   "outputs": [
    {
     "ename": "NameError",
     "evalue": "name 'total' is not defined",
     "output_type": "error",
     "traceback": [
      "\u001b[1;31m---------------------------------------------------------------------------\u001b[0m",
      "\u001b[1;31mNameError\u001b[0m                                 Traceback (most recent call last)",
      "\u001b[1;32m<ipython-input-6-517c68ee957b>\u001b[0m in \u001b[0;36m<module>\u001b[1;34m\u001b[0m\n\u001b[1;32m----> 1\u001b[1;33m \u001b[0mprint\u001b[0m\u001b[1;33m(\u001b[0m\u001b[0mtotal\u001b[0m\u001b[1;33m)\u001b[0m\u001b[1;33m\u001b[0m\u001b[1;33m\u001b[0m\u001b[0m\n\u001b[0m",
      "\u001b[1;31mNameError\u001b[0m: name 'total' is not defined"
     ]
    }
   ],
   "source": [
    "print(total)"
   ]
  },
  {
   "cell_type": "markdown",
   "metadata": {},
   "source": [
    "On the other hand, if you write the print statements within the function\n",
    "where they're defined Python has no problem. A variable defined in a function is recognized\n",
    "inside the function—and only inside the function.\n",
    "Code outside a function can't use variables defined inside the function, but\n",
    "code inside the function can use variables defined in the main code. "
   ]
  },
  {
   "cell_type": "code",
   "execution_count": 9,
   "metadata": {},
   "outputs": [
    {
     "name": "stdout",
     "output_type": "stream",
     "text": [
      "2\n",
      "3\n",
      "5\n"
     ]
    }
   ],
   "source": [
    "def whatever(b, c):\n",
    "    total = b + c\n",
    "    print(b)\n",
    "    print(c)\n",
    "    print(total)\n",
    "    \n",
    "whatever(2,3)"
   ]
  },
  {
   "cell_type": "markdown",
   "metadata": {},
   "source": [
    "Remember,\n",
    "variables defined in the main code are global, meaning that they're recognized\n",
    "everywhere, including inside functions. So if you write…"
   ]
  },
  {
   "cell_type": "code",
   "execution_count": 10,
   "metadata": {},
   "outputs": [],
   "source": [
    "a = 2"
   ]
  },
  {
   "cell_type": "code",
   "execution_count": 11,
   "metadata": {},
   "outputs": [],
   "source": [
    "def display_number():\n",
    "    print(a)"
   ]
  },
  {
   "cell_type": "code",
   "execution_count": 12,
   "metadata": {},
   "outputs": [
    {
     "name": "stdout",
     "output_type": "stream",
     "text": [
      "2\n"
     ]
    }
   ],
   "source": [
    "display_number()"
   ]
  },
  {
   "cell_type": "markdown",
   "metadata": {},
   "source": [
    "However, good coders avoid using global variables inside functions, because\n",
    "it's confusing. It's better to pass values to functions using arguments. It's better\n",
    "to keep all the variables used in functions local."
   ]
  },
  {
   "cell_type": "code",
   "execution_count": 13,
   "metadata": {},
   "outputs": [],
   "source": [
    "def whatever():\n",
    "    y = 2\n",
    "    print(y)"
   ]
  },
  {
   "cell_type": "code",
   "execution_count": 14,
   "metadata": {},
   "outputs": [
    {
     "ename": "NameError",
     "evalue": "name 'y' is not defined",
     "output_type": "error",
     "traceback": [
      "\u001b[1;31m---------------------------------------------------------------------------\u001b[0m",
      "\u001b[1;31mNameError\u001b[0m                                 Traceback (most recent call last)",
      "\u001b[1;32m<ipython-input-14-9063a9f0e032>\u001b[0m in \u001b[0;36m<module>\u001b[1;34m\u001b[0m\n\u001b[1;32m----> 1\u001b[1;33m \u001b[0my\u001b[0m\u001b[1;33m\u001b[0m\u001b[1;33m\u001b[0m\u001b[0m\n\u001b[0m",
      "\u001b[1;31mNameError\u001b[0m: name 'y' is not defined"
     ]
    }
   ],
   "source": [
    "y"
   ]
  },
  {
   "cell_type": "code",
   "execution_count": 15,
   "metadata": {},
   "outputs": [
    {
     "name": "stdout",
     "output_type": "stream",
     "text": [
      "2\n",
      "1\n"
     ]
    }
   ],
   "source": [
    "y = 1\n",
    "whatever()\n",
    "print(y)"
   ]
  },
  {
   "cell_type": "code",
   "execution_count": 26,
   "metadata": {},
   "outputs": [],
   "source": [
    "var=181"
   ]
  },
  {
   "cell_type": "code",
   "execution_count": 27,
   "metadata": {},
   "outputs": [
    {
     "name": "stdout",
     "output_type": "stream",
     "text": [
      "This is a local variable\n"
     ]
    }
   ],
   "source": [
    "def my_func():\n",
    "    var='This is a local variable'\n",
    "    print(var)\n",
    "    \n",
    "my_func()"
   ]
  },
  {
   "cell_type": "code",
   "execution_count": 28,
   "metadata": {},
   "outputs": [
    {
     "data": {
      "text/plain": [
       "181"
      ]
     },
     "execution_count": 28,
     "metadata": {},
     "output_type": "execute_result"
    }
   ],
   "source": [
    "var"
   ]
  },
  {
   "cell_type": "markdown",
   "metadata": {},
   "source": [
    "# Functions within functions"
   ]
  },
  {
   "cell_type": "code",
   "execution_count": 16,
   "metadata": {},
   "outputs": [
    {
     "name": "stdout",
     "output_type": "stream",
     "text": [
      "Hi\n"
     ]
    }
   ],
   "source": [
    "def say_something():\n",
    "    what_to_say = \"Hi\"\n",
    "    print(what_to_say)\n",
    "    \n",
    "say_something()"
   ]
  },
  {
   "cell_type": "markdown",
   "metadata": {},
   "source": [
    "You could break this up into two functions. "
   ]
  },
  {
   "cell_type": "code",
   "execution_count": 24,
   "metadata": {},
   "outputs": [],
   "source": [
    "def now_say_it(value):\n",
    "    print(value)"
   ]
  },
  {
   "cell_type": "code",
   "execution_count": 25,
   "metadata": {},
   "outputs": [],
   "source": [
    "def say_something():\n",
    "    what_to_say = \"Hi\"\n",
    "    now_say_it(what_to_say)"
   ]
  },
  {
   "cell_type": "code",
   "execution_count": 26,
   "metadata": {},
   "outputs": [
    {
     "name": "stdout",
     "output_type": "stream",
     "text": [
      "Hi\n"
     ]
    }
   ],
   "source": [
    "say_something()"
   ]
  },
  {
   "cell_type": "markdown",
   "metadata": {},
   "source": [
    "# Functions with lists\n",
    "\n",
    "Book : Python Crash Course"
   ]
  },
  {
   "cell_type": "markdown",
   "metadata": {},
   "source": [
    "Let’s use functions to make working with lists more efficient.\n",
    "Say we have a list of users and want to print a greeting to each. The\n",
    "following example sends a list of names to a function called greet_users(),\n",
    "which greets each person in the list individually:"
   ]
  },
  {
   "cell_type": "code",
   "execution_count": 1,
   "metadata": {},
   "outputs": [],
   "source": [
    "def greet_users(names):\n",
    "    \"\"\"Print a simple greeting to each user in the list.\"\"\"\n",
    "    for name in names:\n",
    "        msg = \"Hello, \" + name.title() + \"!\"\n",
    "        print(msg)"
   ]
  },
  {
   "cell_type": "code",
   "execution_count": 2,
   "metadata": {},
   "outputs": [
    {
     "name": "stdout",
     "output_type": "stream",
     "text": [
      "Hello, Hannah!\n",
      "Hello, Ty!\n",
      "Hello, Margot!\n"
     ]
    }
   ],
   "source": [
    "usernames = ['hannah', 'ty', 'margot']\n",
    "greet_users(usernames)"
   ]
  },
  {
   "cell_type": "markdown",
   "metadata": {},
   "source": [
    "### Modifying a List in a Function\n",
    "\n",
    "When you pass a list to a function, the function can modify the list. Any\n",
    "changes made to the list inside the function’s body are permanent, allowing\n",
    "you to work efficiently even when you’re dealing with large amounts of data.\n",
    "\n",
    "Consider a company that creates 3D printed models of designs that\n",
    "users submit. Designs that need to be printed are stored in a list, and after\n",
    "being printed they’re moved to a separate list. The following code does this\n",
    "without using functions:\n"
   ]
  },
  {
   "cell_type": "code",
   "execution_count": 3,
   "metadata": {},
   "outputs": [
    {
     "name": "stdout",
     "output_type": "stream",
     "text": [
      "Printing model: dodecahedron\n",
      "Printing model: robot pendant\n",
      "Printing model: iphone case\n"
     ]
    }
   ],
   "source": [
    "# Modifying a list\n",
    "# Start with some designs that need to be printed.\n",
    "unprinted_designs = ['iphone case', 'robot pendant', 'dodecahedron']\n",
    "completed_models = []\n",
    "# Simulate printing each design, until none are left.\n",
    "# Move each design to completed_models after printing.\n",
    "while unprinted_designs:\n",
    "    current_design = unprinted_designs.pop()\n",
    "    # Simulate creating a 3D print from the design.\n",
    "    print(\"Printing model: \" + current_design)\n",
    "    completed_models.append(current_design)\n"
   ]
  },
  {
   "cell_type": "code",
   "execution_count": 4,
   "metadata": {},
   "outputs": [
    {
     "name": "stdout",
     "output_type": "stream",
     "text": [
      "[]\n",
      "['dodecahedron', 'robot pendant', 'iphone case']\n"
     ]
    }
   ],
   "source": [
    "print(unprinted_designs)\n",
    "print(completed_models)"
   ]
  },
  {
   "cell_type": "code",
   "execution_count": 5,
   "metadata": {},
   "outputs": [
    {
     "name": "stdout",
     "output_type": "stream",
     "text": [
      "\n",
      "The following models have been printed:\n",
      "dodecahedron\n",
      "robot pendant\n",
      "iphone case\n"
     ]
    }
   ],
   "source": [
    "# Display all completed models.\n",
    "print(\"\\nThe following models have been printed:\")\n",
    "for completed_model in completed_models:\n",
    "    print(completed_model)"
   ]
  },
  {
   "cell_type": "markdown",
   "metadata": {},
   "source": [
    "We can reorganize this code by writing two functions, each of which\n",
    "does one specific job. Most of the code won’t change; we’re just making it\n",
    "more efficient. The first function will handle printing the designs, and the\n",
    "second will summarize the prints that have been made:\n"
   ]
  },
  {
   "cell_type": "code",
   "execution_count": 21,
   "metadata": {},
   "outputs": [],
   "source": [
    "def print_models(unprinted_designs_list, completed_models_list):\n",
    " \n",
    "    while unprinted_designs_list:\n",
    "        current_design = unprinted_designs_list.pop()\n",
    "\n",
    "         # Simulate creating a 3D print from the design.\n",
    "        print(\"Printing model: \" + current_design)\n",
    "        completed_models_list.append(current_design)"
   ]
  },
  {
   "cell_type": "code",
   "execution_count": 22,
   "metadata": {},
   "outputs": [],
   "source": [
    "def show_completed_models(completed_models_list):\n",
    "    \"\"\"Show all the models that were printed.\"\"\"\n",
    "    print(\"\\nThe following models have been printed:\")\n",
    "    for completed_model in completed_models_list:\n",
    "        print(completed_model)"
   ]
  },
  {
   "cell_type": "code",
   "execution_count": 23,
   "metadata": {},
   "outputs": [],
   "source": [
    "unprinted_designs = ['iphone case', 'robot pendant', 'dodecahedron']\n",
    "completed_models = []"
   ]
  },
  {
   "cell_type": "code",
   "execution_count": 24,
   "metadata": {
    "scrolled": true
   },
   "outputs": [
    {
     "name": "stdout",
     "output_type": "stream",
     "text": [
      "Printing model: dodecahedron\n",
      "Printing model: robot pendant\n",
      "Printing model: iphone case\n"
     ]
    }
   ],
   "source": [
    "print_models(unprinted_designs, completed_models)"
   ]
  },
  {
   "cell_type": "code",
   "execution_count": 11,
   "metadata": {},
   "outputs": [
    {
     "name": "stdout",
     "output_type": "stream",
     "text": [
      "[]\n"
     ]
    }
   ],
   "source": [
    "print(unprinted_designs)"
   ]
  },
  {
   "cell_type": "code",
   "execution_count": 10,
   "metadata": {},
   "outputs": [
    {
     "name": "stdout",
     "output_type": "stream",
     "text": [
      "\n",
      "The following models have been printed:\n",
      "dodecahedron\n",
      "robot pendant\n",
      "iphone case\n"
     ]
    }
   ],
   "source": [
    "show_completed_models(completed_models)"
   ]
  },
  {
   "cell_type": "code",
   "execution_count": 12,
   "metadata": {},
   "outputs": [
    {
     "data": {
      "text/plain": [
       "['dodecahedron', 'robot pendant', 'iphone case']"
      ]
     },
     "execution_count": 12,
     "metadata": {},
     "output_type": "execute_result"
    }
   ],
   "source": [
    "completed_models"
   ]
  },
  {
   "cell_type": "markdown",
   "metadata": {},
   "source": [
    "## Try It Yourself\n",
    "8-9. Magicians: Make a list of magician’s names. Pass the list to a function\n",
    "called show_magicians(), which prints the name of each magician in the list.\n",
    "\n",
    "8-10. Great Magicians: Start with a copy of your program from Exercise 8-9.\n",
    "Write a function called make_great() that modifies the list of magicians by adding the phrase the Great to each magician’s name. Call show_magicians() to\n",
    "see that the list has actually been modified.\n",
    "\n",
    "8-11. Unchanged Magicians: Start with your work from Exercise 8-10. Call the\n",
    "function make_great() with a copy of the list of magicians’ names. Because the\n",
    "original list will be unchanged, return the new list and store it in a separate list.\n",
    "Call show_magicians() with each list to show that you have one list of the original names and one list with the Great added to each magician’s name.\n",
    "\n",
    "8-12. Sandwiches: Write a function that accepts a list of items a person wants\n",
    "on a sandwich. The function should have one parameter that collects as many\n",
    "items as the function call provides, and it should print a summary of the sandwich that is being ordered. Call the function three times, using a different number of arguments each time.\n",
    "\n",
    "8-13. User Profile: Start with a copy of user_profile.py from page 153. Build\n",
    "a profile of yourself by calling build_profile(), using your first and last names\n",
    "and three other key-value pairs that describe you.\n",
    "\n",
    "8-14. Cars: Write a function that stores information about a car in a dictionary. The function should always receive a manufacturer and a model name. It\n",
    "should then accept an arbitrary number of keyword arguments. Call the function with the required information and two other name-value pairs, such as a\n",
    "color or an optional feature. Your function should work for a call like this one:\n",
    "\n",
    "car = make_car('subaru', 'outback', color='blue', tow_package=True)\n",
    "\n",
    "Print the dictionary that’s returned to make sure all the information was\n",
    "stored correctly."
   ]
  },
  {
   "cell_type": "markdown",
   "metadata": {},
   "source": []
  }
 ],
 "metadata": {
  "kernelspec": {
   "display_name": "Python 3",
   "language": "python",
   "name": "python3"
  },
  "language_info": {
   "codemirror_mode": {
    "name": "ipython",
    "version": 3
   },
   "file_extension": ".py",
   "mimetype": "text/x-python",
   "name": "python",
   "nbconvert_exporter": "python",
   "pygments_lexer": "ipython3",
   "version": "3.7.4"
  }
 },
 "nbformat": 4,
 "nbformat_minor": 2
}
